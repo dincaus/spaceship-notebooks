{
 "cells": [
  {
   "cell_type": "code",
   "execution_count": 1,
   "metadata": {
    "collapsed": true
   },
   "outputs": [],
   "source": [
    "%load_ext autoreload\n",
    "%autoreload 2"
   ]
  },
  {
   "cell_type": "code",
   "execution_count": 39,
   "outputs": [],
   "source": [
    "import os\n",
    "import pandas as pd\n",
    "import seaborn as sns\n",
    "import numpy as np\n",
    "import tensorflow as tf\n",
    "import matplotlib.pyplot as plt\n",
    "import category_encoders as ce\n",
    "\n",
    "from neural import run_wide_and_deep_model, run_deep_and_cross_model, run_grn_and_vsn_model, run_tabnet_model, run_tabnet_model_hyperopt\n",
    "\n",
    "from hyperopt import hp, space_eval\n",
    "from sklearn.experimental import enable_iterative_imputer  # noqa\n",
    "from outliers import detect_outliers_isolation, detect_outliers_elliptic\n",
    "from sklearn.impute import IterativeImputer, SimpleImputer, KNNImputer\n",
    "from sklearn.preprocessing import LabelEncoder, StandardScaler, PowerTransformer, SplineTransformer, RobustScaler, MaxAbsScaler, MinMaxScaler, QuantileTransformer, Normalizer\n",
    "from preprocessing import process_dataset, get_where_all_are_non_null, expand_cabin, expand_name, expand_passenger_id_to_group, impute_missing_values, fill_age_column, fill_missing_categorical_columns\n",
    "\n",
    "sns.set_theme()\n",
    "\n",
    "DATASET_PATH = \"/Users/dincaus/datasets/spaceship-titanic\"\n",
    "\n",
    "TRAIN_PATH = os.path.join(DATASET_PATH, \"train.csv\")\n",
    "TEST_PATH = os.path.join(DATASET_PATH, \"test.csv\")"
   ],
   "metadata": {
    "collapsed": false,
    "pycharm": {
     "name": "#%%\n"
    }
   }
  },
  {
   "cell_type": "code",
   "execution_count": 3,
   "outputs": [
    {
     "name": "stdout",
     "output_type": "stream",
     "text": [
      "[PhysicalDevice(name='/physical_device:CPU:0', device_type='CPU'), PhysicalDevice(name='/physical_device:GPU:0', device_type='GPU')]\n"
     ]
    }
   ],
   "source": [
    "print(tf.config.list_physical_devices())\n",
    "# tf.config.set_visible_devices([], 'GPU')"
   ],
   "metadata": {
    "collapsed": false,
    "pycharm": {
     "name": "#%%\n"
    }
   }
  },
  {
   "cell_type": "code",
   "execution_count": 4,
   "outputs": [],
   "source": [
    "train_df = pd.read_csv(TRAIN_PATH)\n",
    "test_df = pd.read_csv(TEST_PATH)"
   ],
   "metadata": {
    "collapsed": false,
    "pycharm": {
     "name": "#%%\n"
    }
   }
  },
  {
   "cell_type": "code",
   "execution_count": 51,
   "outputs": [],
   "source": [
    "all_data = pd.concat([train_df, test_df], axis=0)\n",
    "\n",
    "all_data[[\"Deck\", \"CabinNumber\", \"Side\"]] = expand_cabin(all_data)\n",
    "all_data[\"PassengerGroup\"] = expand_passenger_id_to_group(all_data)\n",
    "all_data[[\"FirstName\", \"LastName\"]] = expand_name(all_data)\n",
    "\n",
    "all_data = all_data.drop(columns=[\"Name\", \"Cabin\"]).reset_index(drop=True)"
   ],
   "metadata": {
    "collapsed": false,
    "pycharm": {
     "name": "#%%\n"
    }
   }
  },
  {
   "cell_type": "code",
   "execution_count": 52,
   "outputs": [],
   "source": [
    "last_name_mapping = pd.concat([all_data.groupby(by=\"LastName\")[\"LastName\"].count().rename(\"Count\"), pd.Series([all_data.groupby(by=\"LastName\")[\"LastName\"].count().rename(\"Count\").mode()[0]], index=[np.nan])])\n",
    "\n",
    "all_data[\"FamilySize\"] = all_data[\"LastName\"].apply(lambda x: last_name_mapping[x])\n",
    "\n",
    "all_data = all_data.drop(columns= [\"FirstName\", \"LastName\"])\n",
    "all_data[\"HasMissing\"] = all_data.isna().any(axis=1)\n",
    "all_data[\"NumberMissing\"] = all_data.isnull().sum(axis=1)"
   ],
   "metadata": {
    "collapsed": false,
    "pycharm": {
     "name": "#%%\n"
    }
   }
  },
  {
   "cell_type": "code",
   "execution_count": 53,
   "outputs": [],
   "source": [
    "NUMERICAL_FEATURES = [\"Age\", \"Spa\", \"VRDeck\", \"RoomService\", \"FoodCourt\", \"ShoppingMall\", ]\n",
    "BOOL_FEATURES = [\"VIP\", \"CryoSleep\", ]\n",
    "CATEGORICAL_FEATURES = [\"Deck\", \"Side\", \"HomePlanet\", \"Destination\", ]\n",
    "\n",
    "LABEL_ENCODERS = {}\n",
    "\n",
    "for cat_col in BOOL_FEATURES + CATEGORICAL_FEATURES:\n",
    "\n",
    "    if cat_col in BOOL_FEATURES:\n",
    "        all_data[cat_col] = SimpleImputer(strategy=\"most_frequent\").fit_transform(all_data[cat_col].to_numpy().reshape(-1, 1))\n",
    "    else:\n",
    "        all_data[cat_col] = SimpleImputer(strategy=\"constant\", fill_value=\"missing\").fit_transform(all_data[cat_col].to_numpy().reshape(-1, 1))\n",
    "\n",
    "    if cat_col in CATEGORICAL_FEATURES:\n",
    "        LABEL_ENCODERS[cat_col] = LabelEncoder()\n",
    "        all_data[cat_col] = LABEL_ENCODERS[cat_col].fit_transform(all_data[cat_col].to_numpy())"
   ],
   "metadata": {
    "collapsed": false,
    "pycharm": {
     "name": "#%%\n"
    }
   }
  },
  {
   "cell_type": "code",
   "execution_count": 54,
   "outputs": [],
   "source": [
    "# preprocess variables\n",
    "for cat_feat in BOOL_FEATURES:\n",
    "    all_data[cat_feat] = all_data[cat_feat].astype(np.int64)\n",
    "\n",
    "for num_feat in NUMERICAL_FEATURES:\n",
    "    all_data[num_feat] = SimpleImputer(strategy=\"mean\").fit_transform(all_data[num_feat].to_numpy().reshape(-1, 1))\n",
    "    all_data[num_feat] = StandardScaler().fit_transform(all_data[num_feat].to_numpy().reshape(-1, 1))"
   ],
   "metadata": {
    "collapsed": false,
    "pycharm": {
     "name": "#%%\n"
    }
   }
  },
  {
   "cell_type": "code",
   "execution_count": 55,
   "outputs": [
    {
     "name": "stderr",
     "output_type": "stream",
     "text": [
      "/var/folders/jy/0x3dtb595998ft_1332l_k780000gn/T/ipykernel_74275/782134980.py:2: SettingWithCopyWarning: \n",
      "A value is trying to be set on a copy of a slice from a DataFrame.\n",
      "Try using .loc[row_indexer,col_indexer] = value instead\n",
      "\n",
      "See the caveats in the documentation: https://pandas.pydata.org/pandas-docs/stable/user_guide/indexing.html#returning-a-view-versus-a-copy\n",
      "  train_data[\"Transported\"] = train_data[\"Transported\"].astype(np.int32)\n"
     ]
    }
   ],
   "source": [
    "train_data = all_data.loc[(~all_data[\"Transported\"].isna()) & (all_data[\"NumberMissing\"] <= 5)]\n",
    "train_data[\"Transported\"] = train_data[\"Transported\"].astype(np.int32)\n",
    "\n",
    "train_data = ce.WOEEncoder(cols=[\"HomePlanet\", \"Destination\", \"Deck\", \"Side\"]).fit_transform(train_data, train_data[\"Transported\"])"
   ],
   "metadata": {
    "collapsed": false,
    "pycharm": {
     "name": "#%%\n"
    }
   }
  },
  {
   "cell_type": "code",
   "execution_count": 67,
   "outputs": [
    {
     "name": "stdout",
     "output_type": "stream",
     "text": [
      "31/31 - 70s - loss: 0.7081 - output_1_loss: 0.6985 - val_loss: 0.6759 - val_output_1_loss: 0.6568 - 70s/epoch - 2s/step\n",
      "\n",
      "Epoch 2/5                                                                            \n",
      "\n",
      "31/31 - 46s - loss: 0.5936 - output_1_loss: 0.5832 - val_loss: 0.5935 - val_output_1_loss: 0.5772 - 46s/epoch - 1s/step\n",
      "\n",
      "Epoch 3/5                                                                            \n",
      "\n",
      "31/31 - 49s - loss: 0.5402 - output_1_loss: 0.5303 - val_loss: 0.5155 - val_output_1_loss: 0.5039 - 49s/epoch - 2s/step\n",
      "\n",
      "Epoch 4/5                                                                            \n",
      "\n",
      "31/31 - 46s - loss: 0.5272 - output_1_loss: 0.5173 - val_loss: 0.5100 - val_output_1_loss: 0.4997 - 46s/epoch - 1s/step\n",
      "\n",
      "Epoch 5/5                                                                            \n",
      "\n",
      "31/31 - 43s - loss: 0.5323 - output_1_loss: 0.5221 - val_loss: 0.4982 - val_output_1_loss: 0.4871 - 43s/epoch - 1s/step\n",
      "\n",
      " 1/28 [>.............................] - ETA: 1:44                                   \n",
      " 2/28 [=>............................] - ETA: 2s  \n",
      " 3/28 [==>...........................] - ETA: 1s\n",
      " 4/28 [===>..........................] - ETA: 1s\n",
      " 5/28 [====>.........................] - ETA: 1s\n",
      " 6/28 [=====>........................] - ETA: 1s\n",
      " 7/28 [======>.......................] - ETA: 1s\n",
      " 8/28 [=======>......................] - ETA: 1s\n",
      " 9/28 [========>.....................] - ETA: 1s\n",
      "10/28 [=========>....................] - ETA: 1s\n",
      "11/28 [==========>...................] - ETA: 1s\n",
      "12/28 [===========>..................] - ETA: 1s\n",
      "13/28 [============>.................] - ETA: 1s\n",
      "14/28 [==============>...............] - ETA: 1s\n",
      "15/28 [===============>..............] - ETA: 1s\n",
      "16/28 [================>.............] - ETA: 0s\n",
      "17/28 [=================>............] - ETA: 0s\n",
      "18/28 [==================>...........] - ETA: 0s\n",
      "19/28 [===================>..........] - ETA: 0s\n",
      "20/28 [====================>.........] - ETA: 0s\n",
      "21/28 [=====================>........] - ETA: 0s\n",
      "22/28 [======================>.......] - ETA: 0s\n",
      "23/28 [=======================>......] - ETA: 0s\n",
      "24/28 [========================>.....] - ETA: 0s\n",
      "25/28 [=========================>....] - ETA: 0s\n",
      "26/28 [==========================>...] - ETA: 0s\n",
      "27/28 [===========================>..] - ETA: 0s\n",
      "28/28 [==============================] - ETA: 0s\n",
      "28/28 [==============================] - 6s 79ms/step\n",
      "\n",
      "Epoch 1/5                                                                            \n",
      "\n",
      "31/31 - 48s - loss: 0.7216 - output_1_loss: 0.6835 - val_loss: 0.7937 - val_output_1_loss: 0.6889 - 48s/epoch - 2s/step\n",
      "\n",
      "Epoch 2/5                                                                            \n",
      "\n",
      "31/31 - 6s - loss: 0.6683 - output_1_loss: 0.6322 - val_loss: 0.7754 - val_output_1_loss: 0.6808 - 6s/epoch - 186ms/step\n",
      "\n",
      "Epoch 3/5                                                                            \n",
      "\n",
      "31/31 - 6s - loss: 0.6556 - output_1_loss: 0.6201 - val_loss: 0.7688 - val_output_1_loss: 0.6848 - 6s/epoch - 184ms/step\n",
      "\n",
      "Epoch 4/5                                                                            \n",
      "\n",
      "31/31 - 6s - loss: 0.6313 - output_1_loss: 0.5965 - val_loss: 0.7736 - val_output_1_loss: 0.6946 - 6s/epoch - 199ms/step\n",
      "\n",
      "Epoch 5/5                                                                            \n",
      "\n",
      "31/31 - 6s - loss: 0.6355 - output_1_loss: 0.6001 - val_loss: 0.7701 - val_output_1_loss: 0.6933 - 6s/epoch - 203ms/step\n",
      "\n",
      " 1/28 [>.............................] - ETA: 1:36                                   \n",
      " 4/28 [===>..........................] - ETA: 0s  \n",
      " 7/28 [======>.......................] - ETA: 0s\n",
      "10/28 [=========>....................] - ETA: 0s\n",
      "13/28 [============>.................] - ETA: 0s\n",
      "16/28 [================>.............] - ETA: 0s\n",
      "19/28 [===================>..........] - ETA: 0s\n",
      "22/28 [======================>.......] - ETA: 0s\n",
      "25/28 [=========================>....] - ETA: 0s\n",
      "28/28 [==============================] - ETA: 0s\n",
      "28/28 [==============================] - 4s 20ms/step\n",
      "\n",
      "Epoch 1/5                                                                            \n",
      "\n",
      " 30%|███       | 15/50 [24:37<57:27, 98.50s/trial, best loss: -0.7675672247590055]   \n",
      "Unexpected exception formatting exception. Falling back to standard exception\n"
     ]
    },
    {
     "name": "stderr",
     "output_type": "stream",
     "text": [
      "Traceback (most recent call last):\n",
      "  File \"/Users/dincaus/miniconda3/envs/tf_metal_acc/lib/python3.8/site-packages/IPython/core/interactiveshell.py\", line 3398, in run_code\n",
      "    exec(code_obj, self.user_global_ns, self.user_ns)\n",
      "  File \"/var/folders/jy/0x3dtb595998ft_1332l_k780000gn/T/ipykernel_74275/476633272.py\", line 31, in <cell line: 1>\n",
      "    best_params, train_data = run_tabnet_model_hyperopt(\n",
      "  File \"/Users/dincaus/DataspellProjects/tf_keras_2_0/spaceship-titanic/neural.py\", line 883, in run_tabnet_model_hyperopt\n",
      "    best = fmin(objective, search_space_params, algo=tpe.suggest, max_evals=number_iterations)\n",
      "  File \"/Users/dincaus/miniconda3/envs/tf_metal_acc/lib/python3.8/site-packages/hyperopt/fmin.py\", line 586, in fmin\n",
      "    rval.exhaust()\n",
      "  File \"/Users/dincaus/miniconda3/envs/tf_metal_acc/lib/python3.8/site-packages/hyperopt/fmin.py\", line 364, in exhaust\n",
      "    self.run(self.max_evals - n_done, block_until_done=self.asynchronous)\n",
      "  File \"/Users/dincaus/miniconda3/envs/tf_metal_acc/lib/python3.8/site-packages/hyperopt/fmin.py\", line 300, in run\n",
      "    self.serial_evaluate()\n",
      "  File \"/Users/dincaus/miniconda3/envs/tf_metal_acc/lib/python3.8/site-packages/hyperopt/fmin.py\", line 178, in serial_evaluate\n",
      "    result = self.domain.evaluate(spec, ctrl)\n",
      "  File \"/Users/dincaus/miniconda3/envs/tf_metal_acc/lib/python3.8/site-packages/hyperopt/base.py\", line 892, in evaluate\n",
      "    rval = self.fn(pyll_rval)\n",
      "  File \"/Users/dincaus/DataspellProjects/tf_keras_2_0/spaceship-titanic/neural.py\", line 866, in objective\n",
      "    model.fit(\n",
      "  File \"/Users/dincaus/miniconda3/envs/tf_metal_acc/lib/python3.8/site-packages/keras/utils/traceback_utils.py\", line 65, in error_handler\n",
      "    return fn(*args, **kwargs)\n",
      "  File \"/Users/dincaus/miniconda3/envs/tf_metal_acc/lib/python3.8/site-packages/keras/engine/training.py\", line 1564, in fit\n",
      "    tmp_logs = self.train_function(iterator)\n",
      "  File \"/Users/dincaus/miniconda3/envs/tf_metal_acc/lib/python3.8/site-packages/tensorflow/python/util/traceback_utils.py\", line 150, in error_handler\n",
      "    return fn(*args, **kwargs)\n",
      "  File \"/Users/dincaus/miniconda3/envs/tf_metal_acc/lib/python3.8/site-packages/tensorflow/python/eager/def_function.py\", line 915, in __call__\n",
      "    result = self._call(*args, **kwds)\n",
      "  File \"/Users/dincaus/miniconda3/envs/tf_metal_acc/lib/python3.8/site-packages/tensorflow/python/eager/def_function.py\", line 947, in _call\n",
      "    return self._stateless_fn(*args, **kwds)  # pylint: disable=not-callable\n",
      "  File \"/Users/dincaus/miniconda3/envs/tf_metal_acc/lib/python3.8/site-packages/tensorflow/python/eager/function.py\", line 2496, in __call__\n",
      "    return graph_function._call_flat(\n",
      "  File \"/Users/dincaus/miniconda3/envs/tf_metal_acc/lib/python3.8/site-packages/tensorflow/python/eager/function.py\", line 1862, in _call_flat\n",
      "    return self._build_call_outputs(self._inference_function.call(\n",
      "  File \"/Users/dincaus/miniconda3/envs/tf_metal_acc/lib/python3.8/site-packages/tensorflow/python/eager/function.py\", line 499, in call\n",
      "    outputs = execute.execute(\n",
      "  File \"/Users/dincaus/miniconda3/envs/tf_metal_acc/lib/python3.8/site-packages/tensorflow/python/eager/execute.py\", line 54, in quick_execute\n",
      "    tensors = pywrap_tfe.TFE_Py_Execute(ctx._handle, device_name, op_name,\n",
      "KeyboardInterrupt\n",
      "\n",
      "During handling of the above exception, another exception occurred:\n",
      "\n",
      "Traceback (most recent call last):\n",
      "  File \"/Users/dincaus/miniconda3/envs/tf_metal_acc/lib/python3.8/site-packages/IPython/core/interactiveshell.py\", line 1993, in showtraceback\n",
      "    stb = self.InteractiveTB.structured_traceback(\n",
      "  File \"/Users/dincaus/miniconda3/envs/tf_metal_acc/lib/python3.8/site-packages/IPython/core/ultratb.py\", line 1118, in structured_traceback\n",
      "    return FormattedTB.structured_traceback(\n",
      "  File \"/Users/dincaus/miniconda3/envs/tf_metal_acc/lib/python3.8/site-packages/IPython/core/ultratb.py\", line 1012, in structured_traceback\n",
      "    return VerboseTB.structured_traceback(\n",
      "  File \"/Users/dincaus/miniconda3/envs/tf_metal_acc/lib/python3.8/site-packages/IPython/core/ultratb.py\", line 865, in structured_traceback\n",
      "    formatted_exception = self.format_exception_as_a_whole(etype, evalue, etb, number_of_lines_of_context,\n",
      "  File \"/Users/dincaus/miniconda3/envs/tf_metal_acc/lib/python3.8/site-packages/IPython/core/ultratb.py\", line 818, in format_exception_as_a_whole\n",
      "    frames.append(self.format_record(r))\n",
      "  File \"/Users/dincaus/miniconda3/envs/tf_metal_acc/lib/python3.8/site-packages/IPython/core/ultratb.py\", line 736, in format_record\n",
      "    result += ''.join(_format_traceback_lines(frame_info.lines, Colors, self.has_colors, lvals))\n",
      "  File \"/Users/dincaus/miniconda3/envs/tf_metal_acc/lib/python3.8/site-packages/stack_data/utils.py\", line 145, in cached_property_wrapper\n",
      "    value = obj.__dict__[self.func.__name__] = self.func(obj)\n",
      "  File \"/Users/dincaus/miniconda3/envs/tf_metal_acc/lib/python3.8/site-packages/stack_data/core.py\", line 698, in lines\n",
      "    pieces = self.included_pieces\n",
      "  File \"/Users/dincaus/miniconda3/envs/tf_metal_acc/lib/python3.8/site-packages/stack_data/utils.py\", line 145, in cached_property_wrapper\n",
      "    value = obj.__dict__[self.func.__name__] = self.func(obj)\n",
      "  File \"/Users/dincaus/miniconda3/envs/tf_metal_acc/lib/python3.8/site-packages/stack_data/core.py\", line 649, in included_pieces\n",
      "    pos = scope_pieces.index(self.executing_piece)\n",
      "  File \"/Users/dincaus/miniconda3/envs/tf_metal_acc/lib/python3.8/site-packages/stack_data/utils.py\", line 145, in cached_property_wrapper\n",
      "    value = obj.__dict__[self.func.__name__] = self.func(obj)\n",
      "  File \"/Users/dincaus/miniconda3/envs/tf_metal_acc/lib/python3.8/site-packages/stack_data/core.py\", line 628, in executing_piece\n",
      "    return only(\n",
      "  File \"/Users/dincaus/miniconda3/envs/tf_metal_acc/lib/python3.8/site-packages/executing/executing.py\", line 164, in only\n",
      "    raise NotOneValueFound('Expected one value, found 0')\n",
      "executing.executing.NotOneValueFound: Expected one value, found 0\n"
     ]
    }
   ],
   "source": [
    "with tf.device('/cpu:0'):\n",
    "    # spaceship_predictor, [history, evaluation_results, accuracy_score, roc_auc_score] = run_tabnet_model(\n",
    "    #     train_df=train_data,\n",
    "    #     feature_columns=NUMERICAL_FEATURES + CATEGORICAL_FEATURES + BOOL_FEATURES,\n",
    "    #     label_cols=[\"Transported\"],\n",
    "    #     feature_dim=128,\n",
    "    #     output_dim=128,\n",
    "    #     n_step=2,\n",
    "    #     n_shared=2,\n",
    "    #     relaxation_factor=2.2,\n",
    "    #     sparsity_coefficient=2.37e-07,\n",
    "    #     bn_momentum=0.9245,\n",
    "    #     learning_rate=1e-3,\n",
    "    #     epochs=1_000,\n",
    "    #     batch_size=256,\n",
    "    #     test_size=0.1,\n",
    "    #     shuffle=True\n",
    "    # )\n",
    "    # print(f\"Accuracy: {accuracy_score}\")\n",
    "    # print(f\"ROC Auc: {roc_auc_score}\")\n",
    "\n",
    "    search_space_hyperopt = {\n",
    "        \"feature_dim\": hp.choice(\"feature_dim\", [32, 64, 128, 256, 512]),\n",
    "        \"n_step\": hp.choice(\"n_step\", range(2, 9, 1)),\n",
    "        \"relaxation_factor\": hp.choice(\"relaxation_factor\", np.arange(1., 3., 0.1)),\n",
    "        \"sparsity_coefficient\": hp.uniform(\"sparsity_coefficient\", 0.00000001, 0.1),\n",
    "        \"n_shared\": hp.choice(\"n_shared\", np.arange(0, 4, 1)),\n",
    "        \"bn_momentum\": hp.uniform(\"bn_momentum\", 0.9, 0.9999),\n",
    "        \"learning_rate\": 1e-3\n",
    "    }\n",
    "    best_params, train_data = run_tabnet_model_hyperopt(\n",
    "        train_df=train_data,\n",
    "        feature_columns=NUMERICAL_FEATURES + CATEGORICAL_FEATURES + BOOL_FEATURES,\n",
    "        label_cols=[\"Transported\"],\n",
    "        search_space_params=search_space_hyperopt,\n",
    "        epochs=5,\n",
    "        batch_size=256,\n",
    "        number_iterations=50,\n",
    "        test_size=0.1,\n",
    "        shuffle=True,\n",
    "        verbose=2\n",
    "    )\n",
    "\n",
    "    best_params_eval = space_eval(search_space_hyperopt, best_params)\n",
    "    print(f\"Best Tabnet parameters found via hyperopt: {best_params_eval}\")"
   ],
   "metadata": {
    "collapsed": false,
    "pycharm": {
     "name": "#%%\n"
    }
   }
  },
  {
   "cell_type": "code",
   "execution_count": null,
   "outputs": [],
   "source": [
    "best_params_eval = {\n",
    "    'bn_momentum': 0.94,\n",
    "    'feature_dim': 256,\n",
    "    'learning_rate': 0.01,\n",
    "    'n_shared': 2,\n",
    "    'n_step': 3,\n",
    "    'relaxation_factor': 0.9,\n",
    "    'sparsity_coefficient': 1e-5\n",
    "}\n",
    "best_params_eval[\"output_dim\"] = best_params_eval[\"feature_dim\"]\n",
    "\n",
    "with tf.device('/cpu:0'):\n",
    "    spaceship_predictor, [history, evaluation_results, accuracy_score, roc_auc_score] = run_tabnet_model(\n",
    "        train_df=train_data,\n",
    "        feature_columns=NUMERICAL_FEATURES + CATEGORICAL_FEATURES + BOOL_FEATURES,\n",
    "        label_cols=[\"Transported\"],\n",
    "        **best_params_eval,\n",
    "        # learning_rate=1e-3,\n",
    "        epochs=1_000,\n",
    "        batch_size=256,\n",
    "        test_size=0.1,\n",
    "        shuffle=True\n",
    "    )\n",
    "\n",
    "    print(f\"Accuracy: {accuracy_score}\")\n",
    "    print(f\"ROC Auc: {roc_auc_score}\")"
   ],
   "metadata": {
    "collapsed": false,
    "pycharm": {
     "name": "#%%\n",
     "is_executing": true
    }
   }
  },
  {
   "cell_type": "code",
   "execution_count": 64,
   "outputs": [
    {
     "name": "stderr",
     "output_type": "stream",
     "text": [
      "2022-09-14 12:05:05.198331: I tensorflow/core/grappler/optimizers/custom_graph_optimizer_registry.cc:114] Plugin optimizer for device_type GPU is enabled.\n"
     ]
    },
    {
     "name": "stdout",
     "output_type": "stream",
     "text": [
      "134/134 [==============================] - 23s 140ms/step\n"
     ]
    }
   ],
   "source": [
    "test_data = all_data[all_data[\"Transported\"].isna()]\n",
    "\n",
    "test_predictions, _ = spaceship_predictor.predict(test_data[NUMERICAL_FEATURES + CATEGORICAL_FEATURES + BOOL_FEATURES].to_numpy())\n",
    "y_predictions = test_predictions.argmax(axis=-1)\n",
    "\n",
    "test_results = pd.concat([test_data[\"PassengerId\"].reset_index(drop=True), pd.DataFrame(y_predictions, columns=[\"Transported\"])], axis=1)\n",
    "test_results[\"Transported\"] = test_results[\"Transported\"].astype(bool)\n",
    "test_results.to_csv(\"submissionNN.csv\", index=False)"
   ],
   "metadata": {
    "collapsed": false,
    "pycharm": {
     "name": "#%%\n"
    }
   }
  },
  {
   "cell_type": "code",
   "execution_count": 65,
   "outputs": [
    {
     "name": "stdout",
     "output_type": "stream",
     "text": [
      "100%|██████████████████████████████████████| 55.4k/55.4k [00:01<00:00, 30.8kB/s]\r\n",
      "Successfully submitted to Spaceship Titanic"
     ]
    }
   ],
   "source": [
    "!kaggle competitions submit -c spaceship-titanic -f submissionNN.csv -m \"second submit\""
   ],
   "metadata": {
    "collapsed": false,
    "pycharm": {
     "name": "#%%\n"
    }
   }
  },
  {
   "cell_type": "code",
   "execution_count": null,
   "outputs": [],
   "source": [],
   "metadata": {
    "collapsed": false,
    "pycharm": {
     "name": "#%%\n"
    }
   }
  }
 ],
 "metadata": {
  "kernelspec": {
   "display_name": "Python 3",
   "language": "python",
   "name": "python3"
  },
  "language_info": {
   "codemirror_mode": {
    "name": "ipython",
    "version": 2
   },
   "file_extension": ".py",
   "mimetype": "text/x-python",
   "name": "python",
   "nbconvert_exporter": "python",
   "pygments_lexer": "ipython2",
   "version": "2.7.6"
  }
 },
 "nbformat": 4,
 "nbformat_minor": 0
}