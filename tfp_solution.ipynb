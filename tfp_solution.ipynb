{
 "cells": [
  {
   "cell_type": "code",
   "execution_count": 1,
   "metadata": {
    "collapsed": true
   },
   "outputs": [],
   "source": [
    "%load_ext autoreload\n",
    "%autoreload 2"
   ]
  },
  {
   "cell_type": "code",
   "execution_count": 12,
   "outputs": [],
   "source": [
    "import os\n",
    "import pandas as pd\n",
    "import seaborn as sns\n",
    "import numpy as np\n",
    "import matplotlib.pyplot as plt\n",
    "\n",
    "from hyperopt import hp, space_eval\n",
    "from xgboost import XGBClassifier\n",
    "from xgboost import plot_importance\n",
    "from sklearn.feature_selection import SelectFromModel, SelectKBest, chi2\n",
    "from sklearn.preprocessing import LabelEncoder, StandardScaler, PowerTransformer, SplineTransformer, RobustScaler\n",
    "\n",
    "from tree_models import run_ada_boost_classifier, run_random_forest_classifier, run_xgboost_classifier, run_xgboost_classifier_search_cv, run_xgboost_classifier_hyperopt\n",
    "from preprocessing import process_dataset, get_where_all_are_non_null, expand_cabin, expand_passenger_id_to_group, impute_missing_values\n",
    "\n",
    "sns.set_theme()\n",
    "\n",
    "DATASET_PATH = \"/Users/dincaus/datasets/spaceship-titanic\"\n",
    "\n",
    "TRAIN_PATH = os.path.join(DATASET_PATH, \"train.csv\")\n",
    "TEST_PATH = os.path.join(DATASET_PATH, \"test.csv\")"
   ],
   "metadata": {
    "collapsed": false,
    "pycharm": {
     "name": "#%%\n"
    }
   }
  },
  {
   "cell_type": "code",
   "execution_count": 57,
   "outputs": [],
   "source": [
    "train_df = pd.read_csv(TRAIN_PATH)\n",
    "test_df = pd.read_csv(TEST_PATH)"
   ],
   "metadata": {
    "collapsed": false,
    "pycharm": {
     "name": "#%%\n"
    }
   }
  },
  {
   "cell_type": "code",
   "execution_count": 90,
   "outputs": [],
   "source": [
    "all_data = pd.concat([train_df, test_df], axis=0)\n",
    "\n",
    "CATEGORICAL_FEATURES = [\"HomePlanet\", \"CryoSleep\", \"Destination\", \"VIP\", \"Deck\", \"Side\", \"PassengerGroup\"]\n",
    "NUMERICAL_FEATURES = [\"Age\", \"RoomService\", \"FoodCourt\", \"ShoppingMall\", \"Spa\", \"VRDeck\", \"CabinNumber\"]\n",
    "ARTIFICIAL_FEATURES = [\"TotalMoneySpent\", ]\n",
    "\n",
    "all_data[[\"Deck\", \"CabinNumber\", \"Side\"]] = expand_cabin(all_data)\n",
    "all_data[\"PassengerGroup\"] = expand_passenger_id_to_group(all_data)\n",
    "\n",
    "all_data = all_data.drop(columns=[\"Name\", \"Cabin\"])"
   ],
   "metadata": {
    "collapsed": false,
    "pycharm": {
     "name": "#%%\n"
    }
   }
  },
  {
   "cell_type": "code",
   "execution_count": 91,
   "outputs": [],
   "source": [
    "# fill missing categorical values with most common values\n",
    "all_data[\"HomePlanet\"] = all_data[\"HomePlanet\"].fillna(all_data[\"HomePlanet\"].mode()[0])\n",
    "all_data[\"Destination\"] = all_data[\"Destination\"].fillna(all_data[\"Destination\"].mode()[0])\n",
    "all_data[\"Deck\"] = all_data[\"Deck\"].fillna(all_data[\"Deck\"].mode()[0])\n",
    "all_data[\"Side\"] = all_data[\"Side\"].fillna(all_data[\"Side\"].mode()[0])\n",
    "\n",
    "all_data[\"CryoSleep\"] = all_data[\"CryoSleep\"].fillna(all_data[\"CryoSleep\"].mode()[0]).astype(np.int32)\n",
    "all_data[\"VIP\"] = all_data[\"VIP\"].fillna(all_data[\"VIP\"].mode()[0]).astype(np.int32)\n",
    "\n",
    "# fill missing numerical values with knn imputer\n",
    "all_data[NUMERICAL_FEATURES] = impute_missing_values(all_data, NUMERICAL_FEATURES, n_neighbors=5)\n",
    "\n",
    "all_data[\"CabinNumber\"] = all_data[\"CabinNumber\"].astype(np.int32)\n",
    "all_data[\"Age\"] = all_data[\"Age\"].astype(np.float32)"
   ],
   "metadata": {
    "collapsed": false,
    "pycharm": {
     "name": "#%%\n"
    }
   }
  },
  {
   "cell_type": "code",
   "execution_count": 92,
   "outputs": [],
   "source": [
    "categorical_encoders = {\n",
    "    \"HomePlanet\": LabelEncoder(),\n",
    "    \"Destination\": LabelEncoder(),\n",
    "    \"Deck\": LabelEncoder(),\n",
    "    \"Side\": LabelEncoder()\n",
    "}\n",
    "\n",
    "# std_normalizers = {\n",
    "#     \"Age\": PowerTransformer(),\n",
    "#     \"RoomService\": PowerTransformer(),\n",
    "#     \"FoodCourt\": PowerTransformer(),\n",
    "#     \"ShoppingMall\": PowerTransformer(),\n",
    "#     \"Spa\": PowerTransformer(),\n",
    "#     \"VRDeck\": PowerTransformer()\n",
    "# }\n",
    "std_normalizers = {\n",
    "    \"Age\": RobustScaler(),\n",
    "    \"RoomService\": RobustScaler(),\n",
    "    \"FoodCourt\": RobustScaler(),\n",
    "    \"ShoppingMall\": RobustScaler(),\n",
    "    \"Spa\": RobustScaler(),\n",
    "    \"VRDeck\": RobustScaler()\n",
    "}\n",
    "\n",
    "for cat_encoder_name in categorical_encoders:\n",
    "    all_data[cat_encoder_name] = categorical_encoders[cat_encoder_name].fit_transform(all_data[cat_encoder_name])\n",
    "\n",
    "all_data[\"TotalMoneySpent\"] = all_data[\"RoomService\"] + all_data[\"FoodCourt\"] + all_data[\"ShoppingMall\"] + all_data[\"Spa\"] + all_data[\"VRDeck\"]\n",
    "\n",
    "# for std_normalizers_name in std_normalizers:\n",
    "#     all_data[std_normalizers_name] = std_normalizers[std_normalizers_name].fit_transform(all_data[std_normalizers_name].to_numpy().reshape(-1, 1))"
   ],
   "metadata": {
    "collapsed": false,
    "pycharm": {
     "name": "#%%\n"
    }
   }
  },
  {
   "cell_type": "code",
   "execution_count": 93,
   "outputs": [
    {
     "name": "stderr",
     "output_type": "stream",
     "text": [
      "/var/folders/jy/0x3dtb595998ft_1332l_k780000gn/T/ipykernel_1277/3763130414.py:2: SettingWithCopyWarning: \n",
      "A value is trying to be set on a copy of a slice from a DataFrame.\n",
      "Try using .loc[row_indexer,col_indexer] = value instead\n",
      "\n",
      "See the caveats in the documentation: https://pandas.pydata.org/pandas-docs/stable/user_guide/indexing.html#returning-a-view-versus-a-copy\n",
      "  train_data_df[\"Transported\"] = train_data_df[\"Transported\"].astype(np.int32)\n"
     ]
    }
   ],
   "source": [
    "train_data_df, test_data_df = all_data.loc[~all_data[\"Transported\"].isna()], all_data.loc[all_data[\"Transported\"].isna()]\n",
    "train_data_df[\"Transported\"] = train_data_df[\"Transported\"].astype(np.int32)"
   ],
   "metadata": {
    "collapsed": false,
    "pycharm": {
     "name": "#%%\n"
    }
   }
  },
  {
   "cell_type": "code",
   "execution_count": 120,
   "outputs": [
    {
     "name": "stdout",
     "output_type": "stream",
     "text": [
      "Total number of features: 15\n"
     ]
    },
    {
     "data": {
      "text/plain": "array(['Age', 'RoomService', 'FoodCourt', 'ShoppingMall', 'Spa', 'VRDeck',\n       'CabinNumber', 'TotalMoneySpent', 'CryoSleep'], dtype=object)"
     },
     "execution_count": 120,
     "metadata": {},
     "output_type": "execute_result"
    }
   ],
   "source": [
    "total_number_of_features = len(NUMERICAL_FEATURES) + len(ARTIFICIAL_FEATURES) + len(CATEGORICAL_FEATURES)\n",
    "train_x, train_y = train_data_df[NUMERICAL_FEATURES + ARTIFICIAL_FEATURES + CATEGORICAL_FEATURES], train_data_df[\"Transported\"]\n",
    "\n",
    "print(f\"Total number of features: {total_number_of_features}\")\n",
    "\n",
    "feature_selector = SelectKBest(chi2, k=9)\n",
    "feature_selector.fit(train_x, train_y)\n",
    "best_feature_selection = feature_selector.get_feature_names_out()\n",
    "best_feature_selection"
   ],
   "metadata": {
    "collapsed": false,
    "pycharm": {
     "name": "#%%\n"
    }
   }
  },
  {
   "cell_type": "code",
   "execution_count": 121,
   "outputs": [
    {
     "name": "stdout",
     "output_type": "stream",
     "text": [
      "XGBoost Search Space: {'n_estimators': <hyperopt.pyll.base.Apply object at 0x7fd29a648790>, 'min_child_weight': <hyperopt.pyll.base.Apply object at 0x7fd29b79d430>, 'max_depth': <hyperopt.pyll.base.Apply object at 0x7fd29b79deb0>, 'gamma': <hyperopt.pyll.base.Apply object at 0x7fd29b79d2b0>, 'subsample': <hyperopt.pyll.base.Apply object at 0x7fd29b79d850>, 'colsample_bytree': <hyperopt.pyll.base.Apply object at 0x7fd29b79da00>, 'reg_alpha': <hyperopt.pyll.base.Apply object at 0x7fd29b79d370>}\n",
      "100%|██████████| 200/200 [04:29<00:00,  1.35s/trial, best loss: -0.8310344827586207]\n",
      "Best parameters: {'colsample_bytree': 0.512405700338466, 'gamma': 0.201411139740009, 'max_depth': 19, 'min_child_weight': 1, 'n_estimators': 650, 'reg_alpha': 50, 'subsample': 0.8286533610347336}\n"
     ]
    }
   ],
   "source": [
    "XGBOOST_CLASSIFIER_HYPEROPT_SPACE = {\n",
    "    \"n_estimators\": hp.choice(\"n_estimators\", np.arange(100, 1000, 50, dtype=np.int32).tolist()),\n",
    "    \"min_child_weight\": hp.choice(\"min_child_weight\", np.arange(1, 20, 2, dtype=np.int32).tolist()),\n",
    "    \"max_depth\": hp.choice(\"max_depth\", np.arange(3, 20, 2, dtype=np.int32).tolist()),\n",
    "    \"gamma\": hp.uniform(\"gamma\", 0.0, 0.9),\n",
    "    \"subsample\": hp.uniform(\"subsample\", 0.1, 0.9),\n",
    "    \"colsample_bytree\": hp.uniform(\"colsample_bytree\", 0.1, 0.9),\n",
    "    \"reg_alpha\": hp.choice(\"reg_alpha\", [1e-5, 1e-2, 0.1, 1.0, 50, 100])\n",
    "}\n",
    "\n",
    "best_params_hyperopt = run_xgboost_classifier_hyperopt(\n",
    "    train_df=train_data_df,\n",
    "    feature_columns=best_feature_selection,\n",
    "    search_space_params=XGBOOST_CLASSIFIER_HYPEROPT_SPACE,\n",
    "    label_columns=[\"Transported\"],\n",
    "    shuffle=True,\n",
    "    number_iterations=200,\n",
    "    test_size=0.10\n",
    ")\n",
    "\n",
    "best_params = space_eval(XGBOOST_CLASSIFIER_HYPEROPT_SPACE, best_params_hyperopt)\n",
    "print(f\"Best parameters: {best_params}\")\n",
    "\n",
    "best_estimator = XGBClassifier(**best_params)"
   ],
   "metadata": {
    "collapsed": false,
    "pycharm": {
     "name": "#%%\n"
    }
   }
  },
  {
   "cell_type": "code",
   "execution_count": 122,
   "outputs": [
    {
     "name": "stdout",
     "output_type": "stream",
     "text": [
      "Using features: ['Age' 'RoomService' 'FoodCourt' 'ShoppingMall' 'Spa' 'VRDeck'\n",
      " 'CabinNumber' 'TotalMoneySpent' 'CryoSleep']\n"
     ]
    },
    {
     "data": {
      "text/plain": "<Figure size 432x288 with 1 Axes>",
      "image/png": "[encoded data removed]"
     },
     "metadata": {},
     "output_type": "display_data"
    },
    {
     "data": {
      "text/plain": "<AxesSubplot:ylabel='rocAuc'>"
     },
     "execution_count": 122,
     "metadata": {},
     "output_type": "execute_result"
    },
    {
     "data": {
      "text/plain": "<Figure size 432x288 with 1 Axes>",
      "image/png": "[encoded data removed]"
     },
     "metadata": {},
     "output_type": "display_data"
    }
   ],
   "source": [
    "print(f\"Using features: {best_feature_selection}\")\n",
    "\n",
    "training_results, predictor = run_xgboost_classifier(\n",
    "    train_df=train_data_df,\n",
    "    feature_columns=best_feature_selection,\n",
    "    label_columns=[\"Transported\"],\n",
    "    number_of_splits=5,\n",
    "    shuffle=True,\n",
    "    xgboost_model_predefined=best_estimator\n",
    ")\n",
    "\n",
    "training_df = pd.DataFrame(training_results)\n",
    "\n",
    "plot_importance(predictor)\n",
    "plt.show()\n",
    "\n",
    "sns.lineplot(data=training_df, x=training_df.index, y=\"rocAuc\")"
   ],
   "metadata": {
    "collapsed": false,
    "pycharm": {
     "name": "#%%\n"
    }
   }
  },
  {
   "cell_type": "code",
   "execution_count": 123,
   "outputs": [],
   "source": [
    "test_predictions = predictor.predict(test_data_df[best_feature_selection].to_numpy())\n",
    "test_results = pd.concat([test_data_df[\"PassengerId\"], pd.DataFrame(test_predictions, columns=[\"Transported\"])], axis=1)\n",
    "test_results[\"Transported\"] = test_results[\"Transported\"].astype(bool)\n",
    "test_results.to_csv(\"submission.csv\", index=False)"
   ],
   "metadata": {
    "collapsed": false,
    "pycharm": {
     "name": "#%%\n"
    }
   }
  }
 ],
 "metadata": {
  "kernelspec": {
   "display_name": "Python 3",
   "language": "python",
   "name": "python3"
  },
  "language_info": {
   "codemirror_mode": {
    "name": "ipython",
    "version": 2
   },
   "file_extension": ".py",
   "mimetype": "text/x-python",
   "name": "python",
   "nbconvert_exporter": "python",
   "pygments_lexer": "ipython2",
   "version": "2.7.6"
  }
 },
 "nbformat": 4,
 "nbformat_minor": 0
}