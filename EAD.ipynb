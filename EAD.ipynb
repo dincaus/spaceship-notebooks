{
 "cells": [
  {
   "cell_type": "code",
   "execution_count": 1,
   "metadata": {
    "collapsed": true
   },
   "outputs": [],
   "source": [
    "%load_ext autoreload\n",
    "%autoreload 2"
   ]
  },
  {
   "cell_type": "code",
   "execution_count": 50,
   "outputs": [],
   "source": [
    "import os\n",
    "import pandas as pd\n",
    "import numpy as np\n",
    "import seaborn as sns\n",
    "import matplotlib.pyplot as plt\n",
    "\n",
    "import tensorflow as tf\n",
    "import tensorflow_probability as tfp\n",
    "\n",
    "from sklearn.impute import KNNImputer\n",
    "from sklearn.preprocessing import PowerTransformer\n",
    "from preprocessing import process_dataset, expand_cabin, expand_passenger_id_to_group, convert_to_categorical, get_where_all_are_non_null\n",
    "\n",
    "sns.set_theme()\n",
    "\n",
    "tfd = tfp.distributions\n",
    "tfb = tfp.bijectors\n",
    "\n",
    "DATASET_PATH = \"/Users/dincaus/datasets/spaceship-titanic\"\n",
    "\n",
    "TRAIN_PATH = os.path.join(DATASET_PATH, \"train.csv\")\n",
    "TEST_PATH = os.path.join(DATASET_PATH, \"test.csv\")"
   ],
   "metadata": {
    "collapsed": false,
    "pycharm": {
     "name": "#%%\n"
    }
   }
  },
  {
   "cell_type": "code",
   "execution_count": 29,
   "outputs": [],
   "source": [
    "train_df = pd.read_csv(TRAIN_PATH)\n",
    "test_df = pd.read_csv(TEST_PATH)\n",
    "\n",
    "all_data = pd.concat([train_df, test_df])"
   ],
   "metadata": {
    "collapsed": false,
    "pycharm": {
     "name": "#%%\n"
    }
   }
  },
  {
   "cell_type": "code",
   "execution_count": 35,
   "outputs": [],
   "source": [
    "all_data[[\"Deck\", \"CabinNumber\", \"Side\"]] = expand_cabin(all_data)\n",
    "all_data[\"PassengerGroup\"] = expand_passenger_id_to_group(all_data)\n",
    "\n",
    "all_data = all_data.drop(columns=[\"PassengerId\", \"Transported\", \"Name\", \"Cabin\"])"
   ],
   "metadata": {
    "collapsed": false,
    "pycharm": {
     "name": "#%%\n"
    }
   }
  },
  {
   "cell_type": "code",
   "execution_count": 36,
   "outputs": [],
   "source": [
    "CATEGORICAL_FEATURES = [\"HomePlanet\", \"CrypSleep\", \"Destination\", \"VIP\", \"Deck\", \"Side\", \"PassengerGroup\"]\n",
    "NUMERICAL_FEATURES = [\"Age\", \"RoomService\", \"FoodCourt\", \"ShoppingMall\", \"Spa\", \"VRDeck\", \"CabinNumber\"]"
   ],
   "metadata": {
    "collapsed": false,
    "pycharm": {
     "name": "#%%\n"
    }
   }
  },
  {
   "cell_type": "code",
   "execution_count": 48,
   "outputs": [
    {
     "data": {
      "text/plain": "array([[  39. ,    0. ,    0. , ...,    0. ,    0. ,    0. ],\n       [  24. ,  109. ,    9. , ...,  549. ,   44. ,    0. ],\n       [  58. ,   43. , 3576. , ..., 6715. ,   49. ,    0. ],\n       ...,\n       [  37. ,    0. ,    0. , ...,    0. ,    0. ,  296. ],\n       [  35.5,    0. , 2680. , ...,    0. ,  523. ,  297. ],\n       [  43. ,    0. ,    0. , ...,    0. ,    0. , 1498. ]])"
     },
     "execution_count": 48,
     "metadata": {},
     "output_type": "execute_result"
    }
   ],
   "source": [
    "knn_impute = KNNImputer(n_neighbors=2)\n",
    "knn_impute.fit(all_data[NUMERICAL_FEATURES].to_numpy())\n",
    "knn_impute.transform(all_data[NUMERICAL_FEATURES].to_numpy())"
   ],
   "metadata": {
    "collapsed": false,
    "pycharm": {
     "name": "#%%\n"
    }
   }
  }
 ],
 "metadata": {
  "kernelspec": {
   "display_name": "Python 3",
   "language": "python",
   "name": "python3"
  },
  "language_info": {
   "codemirror_mode": {
    "name": "ipython",
    "version": 2
   },
   "file_extension": ".py",
   "mimetype": "text/x-python",
   "name": "python",
   "nbconvert_exporter": "python",
   "pygments_lexer": "ipython2",
   "version": "2.7.6"
  }
 },
 "nbformat": 4,
 "nbformat_minor": 0
}